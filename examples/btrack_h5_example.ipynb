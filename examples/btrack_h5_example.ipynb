{
 "cells": [
  {
   "cell_type": "code",
   "execution_count": 2,
   "metadata": {},
   "outputs": [
    {
     "name": "stderr",
     "output_type": "stream",
     "text": [
      "[INFO][2023/03/08 02:59:05 PM] Opening HDF file: /Users/arl/Library/Caches/btrack-examples/examples/tracks.h5...\n",
      "[INFO][2023/03/08 02:59:05 PM] Loading objects/obj_type_1 (52581, 5) (52581 filtered: None)\n",
      "[INFO][2023/03/08 02:59:05 PM] Loading tracks/obj_type_1\n",
      "[INFO][2023/03/08 02:59:05 PM] Loading LBEP/obj_type_1\n",
      "[INFO][2023/03/08 02:59:05 PM] Loading objects/obj_type_1 (52581, 5) (52581 filtered: None)\n",
      "[INFO][2023/03/08 02:59:06 PM] Closing HDF file: /Users/arl/Library/Caches/btrack-examples/examples/tracks.h5\n"
     ]
    }
   ],
   "source": [
    "\n",
    "from btrack import datasets\n",
    "from btrack.io import HDF5FileHandler\n",
    "\n",
    "pooch = datasets.POOCH\n",
    "filename = pooch.fetch(\"examples/tracks.h5\")\n",
    "\n",
    "with HDF5FileHandler(filename, \"r\") as hdf:\n",
    "    objects = hdf.objects\n",
    "    tracks = hdf.tracks"
   ]
  },
  {
   "cell_type": "code",
   "execution_count": 3,
   "metadata": {},
   "outputs": [
    {
     "data": {
      "text/html": [
       "<table border=\"1\" class=\"dataframe\">\n",
       "  <thead>\n",
       "    <tr style=\"text-align: right;\">\n",
       "      <th></th>\n",
       "      <th>ID</th>\n",
       "      <th>t</th>\n",
       "      <th>x</th>\n",
       "      <th>y</th>\n",
       "      <th>z</th>\n",
       "      <th>parent</th>\n",
       "      <th>root</th>\n",
       "      <th>state</th>\n",
       "      <th>generation</th>\n",
       "      <th>dummy</th>\n",
       "    </tr>\n",
       "  </thead>\n",
       "  <tbody>\n",
       "    <tr>\n",
       "      <th>0</th>\n",
       "      <td>1</td>\n",
       "      <td>0</td>\n",
       "      <td>9.081633</td>\n",
       "      <td>517.559509</td>\n",
       "      <td>0.0</td>\n",
       "      <td>1</td>\n",
       "      <td>1</td>\n",
       "      <td>0</td>\n",
       "      <td>0</td>\n",
       "      <td>False</td>\n",
       "    </tr>\n",
       "    <tr>\n",
       "      <th>1</th>\n",
       "      <td>1</td>\n",
       "      <td>1</td>\n",
       "      <td>5.522222</td>\n",
       "      <td>514.647217</td>\n",
       "      <td>0.0</td>\n",
       "      <td>1</td>\n",
       "      <td>1</td>\n",
       "      <td>2</td>\n",
       "      <td>0</td>\n",
       "      <td>False</td>\n",
       "    </tr>\n",
       "  </tbody>\n",
       "</table>"
      ],
      "text/plain": [
       "OrderedDict([('ID', 1), ('t', [0, 1]), ('x', [9.081632614135742, 5.52222204208374]), ('y', [517.5595092773438, 514.647216796875]), ('z', [0.0, 0.0]), ('parent', 1), ('root', 1), ('state', [0, 2]), ('generation', 0), ('dummy', [False, False])])"
      ]
     },
     "execution_count": 3,
     "metadata": {},
     "output_type": "execute_result"
    }
   ],
   "source": [
    "tracks[0]"
   ]
  },
  {
   "cell_type": "code",
   "execution_count": 4,
   "metadata": {},
   "outputs": [],
   "source": [
    "obj_in_track = tracks[0].refs"
   ]
  },
  {
   "cell_type": "code",
   "execution_count": 5,
   "metadata": {},
   "outputs": [
    {
     "data": {
      "text/plain": [
       "[0, 69]"
      ]
     },
     "execution_count": 5,
     "metadata": {},
     "output_type": "execute_result"
    }
   ],
   "source": [
    "obj_in_track"
   ]
  },
  {
   "cell_type": "code",
   "execution_count": 6,
   "metadata": {},
   "outputs": [
    {
     "data": {
      "text/html": [
       "<table border=\"1\" class=\"dataframe\">\n",
       "  <thead>\n",
       "    <tr style=\"text-align: right;\">\n",
       "      <th></th>\n",
       "      <th>ID</th>\n",
       "      <th>x</th>\n",
       "      <th>y</th>\n",
       "      <th>z</th>\n",
       "      <th>t</th>\n",
       "      <th>dummy</th>\n",
       "      <th>states</th>\n",
       "      <th>label</th>\n",
       "    </tr>\n",
       "  </thead>\n",
       "  <tbody>\n",
       "    <tr>\n",
       "      <th>0</th>\n",
       "      <td>0</td>\n",
       "      <td>9.081633</td>\n",
       "      <td>517.559509</td>\n",
       "      <td>0.0</td>\n",
       "      <td>0</td>\n",
       "      <td>False</td>\n",
       "      <td>7</td>\n",
       "      <td>0</td>\n",
       "    </tr>\n",
       "  </tbody>\n",
       "</table>"
      ],
      "text/plain": [
       "{'ID': 0, 'x': 9.081632614135742, 'y': 517.5595092773438, 'z': 0.0, 't': 0, 'dummy': False, 'states': 7, 'label': 0}"
      ]
     },
     "execution_count": 6,
     "metadata": {},
     "output_type": "execute_result"
    }
   ],
   "source": [
    "objects[obj_in_track[0]]"
   ]
  },
  {
   "cell_type": "code",
   "execution_count": 7,
   "metadata": {},
   "outputs": [
    {
     "name": "stderr",
     "output_type": "stream",
     "text": [
      "[INFO][2023/03/08 02:59:06 PM] Opening HDF file: ./test.h5...\n",
      "[INFO][2023/03/08 02:59:06 PM] Writing objects/obj_type_1\n",
      "[INFO][2023/03/08 02:59:06 PM] Writing labels/obj_type_1\n",
      "[INFO][2023/03/08 02:59:06 PM] Loading objects/obj_type_1 (52581, 5) (52581 filtered: None)\n",
      "[INFO][2023/03/08 02:59:07 PM] Writing tracks/obj_type_1\n",
      "[INFO][2023/03/08 02:59:07 PM] Writing LBEP/obj_type_1\n",
      "[INFO][2023/03/08 02:59:07 PM] Writing fates/obj_type_1\n",
      "[INFO][2023/03/08 02:59:07 PM] Closing HDF file: ./test.h5\n"
     ]
    }
   ],
   "source": [
    "with HDF5FileHandler(\"./test.h5\", \"w\") as hdf:\n",
    "    hdf.write_tracks(tracks)"
   ]
  },
  {
   "cell_type": "code",
   "execution_count": null,
   "metadata": {},
   "outputs": [],
   "source": []
  }
 ],
 "metadata": {
  "kernelspec": {
   "display_name": "btrack",
   "language": "python",
   "name": "python3"
  },
  "language_info": {
   "codemirror_mode": {
    "name": "ipython",
    "version": 3
   },
   "file_extension": ".py",
   "mimetype": "text/x-python",
   "name": "python",
   "nbconvert_exporter": "python",
   "pygments_lexer": "ipython3",
   "version": "3.10.9"
  },
  "orig_nbformat": 4
 },
 "nbformat": 4,
 "nbformat_minor": 2
}
