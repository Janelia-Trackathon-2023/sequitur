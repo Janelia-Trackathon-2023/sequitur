{
 "cells": [
  {
   "cell_type": "markdown",
   "metadata": {},
   "source": [
    "btrack can be installed with pip:\n",
    "\n",
    "```sh\n",
    "pip install btrack\n",
    "```"
   ]
  },
  {
   "cell_type": "code",
   "execution_count": 1,
   "metadata": {},
   "outputs": [],
   "source": [
    "import btrack\n",
    "from btrack import datasets\n",
    "# import napari"
   ]
  },
  {
   "cell_type": "code",
   "execution_count": 2,
   "metadata": {},
   "outputs": [],
   "source": [
    "CONFIG_FILE = datasets.cell_config()\n",
    "# CONFIG_FILE = datasets.particle_config()"
   ]
  },
  {
   "cell_type": "code",
   "execution_count": 3,
   "metadata": {},
   "outputs": [],
   "source": [
    "objects = datasets.example_track_objects()"
   ]
  },
  {
   "cell_type": "code",
   "execution_count": 4,
   "metadata": {},
   "outputs": [
    {
     "data": {
      "text/html": [
       "<table border=\"1\" class=\"dataframe\">\n",
       "  <thead>\n",
       "    <tr style=\"text-align: right;\">\n",
       "      <th></th>\n",
       "      <th>ID</th>\n",
       "      <th>x</th>\n",
       "      <th>y</th>\n",
       "      <th>z</th>\n",
       "      <th>t</th>\n",
       "      <th>dummy</th>\n",
       "      <th>states</th>\n",
       "      <th>label</th>\n",
       "    </tr>\n",
       "  </thead>\n",
       "  <tbody>\n",
       "    <tr>\n",
       "      <th>0</th>\n",
       "      <td>0</td>\n",
       "      <td>517.559509</td>\n",
       "      <td>9.081633</td>\n",
       "      <td>0.0</td>\n",
       "      <td>0</td>\n",
       "      <td>False</td>\n",
       "      <td>0</td>\n",
       "      <td>0</td>\n",
       "    </tr>\n",
       "  </tbody>\n",
       "</table>"
      ],
      "text/plain": [
       "{'ID': 0, 'x': 517.5595092773438, 'y': 9.081632614135742, 'z': 0.0, 't': 0, 'dummy': False, 'states': 0, 'label': 0}"
      ]
     },
     "execution_count": 4,
     "metadata": {},
     "output_type": "execute_result"
    }
   ],
   "source": [
    "objects[0]"
   ]
  },
  {
   "cell_type": "code",
   "execution_count": 5,
   "metadata": {},
   "outputs": [
    {
     "data": {
      "text/plain": [
       "{'ID': 0,\n",
       " 'x': 517.5595092773438,\n",
       " 'y': 9.081632614135742,\n",
       " 'z': 0.0,\n",
       " 't': 0,\n",
       " 'dummy': False,\n",
       " 'states': 0,\n",
       " 'label': 0}"
      ]
     },
     "execution_count": 5,
     "metadata": {},
     "output_type": "execute_result"
    }
   ],
   "source": [
    "objects[0].to_dict()"
   ]
  },
  {
   "cell_type": "code",
   "execution_count": 6,
   "metadata": {},
   "outputs": [
    {
     "name": "stderr",
     "output_type": "stream",
     "text": [
      "[INFO][2023/03/08 02:17:22 PM] Loading configuration file: /Users/joran.deschamps/Library/Caches/btrack-examples/examples/cell_config.json\n"
     ]
    }
   ],
   "source": [
    "cfg = btrack.config.load_config(CONFIG_FILE)"
   ]
  },
  {
   "cell_type": "code",
   "execution_count": 7,
   "metadata": {},
   "outputs": [],
   "source": [
    "cfg.motion_model.prob_not_assign = 0.1\n",
    "cfg.motion_model.max_lost = 1\n",
    "cfg.hypothesis_model.time_thresh = 1\n",
    "cfg.hypothesis_model.theta_time = 1\n",
    "cfg.hypothesis_model.dist_thresh = 100"
   ]
  },
  {
   "cell_type": "code",
   "execution_count": 8,
   "metadata": {},
   "outputs": [
    {
     "name": "stderr",
     "output_type": "stream",
     "text": [
      "[INFO][2023/03/08 02:17:22 PM] Loaded btrack: /Users/joran.deschamps/miniconda3/envs/btrack/lib/python3.8/site-packages/btrack/libs/libtracker.dylib\n",
      "[INFO][2023/03/08 02:17:22 PM] btrack (v0.5.0) library imported\n",
      "[INFO][2023/03/08 02:17:23 PM] Starting BayesianTracker session\n",
      "[INFO][2023/03/08 02:17:23 PM] Objects are of type: <class 'list'>\n",
      "[INFO][2023/03/08 02:17:23 PM] Starting tracking... \n",
      "[INFO][2023/03/08 02:17:23 PM] Update using: ['MOTION']\n",
      "[INFO][2023/03/08 02:17:23 PM] Tracking objects in frames 0 to 99 (of 500)...\n",
      "[INFO][2023/03/08 02:17:23 PM]  - Timing (Bayesian updates: 3.49ms, Linking: 0.28ms)\n",
      "[INFO][2023/03/08 02:17:23 PM]  - Probabilities (Link: 0.99986, Lost: 0.74200)\n",
      "[INFO][2023/03/08 02:17:23 PM]  - Stats (Active: 80, Lost: 599, Conflicts resolved: 2)\n",
      "[INFO][2023/03/08 02:17:23 PM] Tracking objects in frames 100 to 199 (of 500)...\n",
      "[INFO][2023/03/08 02:17:23 PM]  - Timing (Bayesian updates: 3.63ms, Linking: 0.30ms)\n",
      "[INFO][2023/03/08 02:17:23 PM]  - Probabilities (Link: 1.00000, Lost: 0.99928)\n",
      "[INFO][2023/03/08 02:17:23 PM]  - Stats (Active: 83, Lost: 1023, Conflicts resolved: 3)\n",
      "[INFO][2023/03/08 02:17:23 PM] Tracking objects in frames 200 to 299 (of 500)...\n",
      "[INFO][2023/03/08 02:17:24 PM]  - Timing (Bayesian updates: 7.16ms, Linking: 0.42ms)\n",
      "[INFO][2023/03/08 02:17:24 PM]  - Probabilities (Link: 0.98698, Lost: 0.56635)\n",
      "[INFO][2023/03/08 02:17:24 PM]  - Stats (Active: 119, Lost: 1506, Conflicts resolved: 4)\n",
      "[INFO][2023/03/08 02:17:24 PM] Tracking objects in frames 300 to 399 (of 500)...\n",
      "[INFO][2023/03/08 02:17:25 PM]  - Timing (Bayesian updates: 10.94ms, Linking: 0.52ms)\n",
      "[INFO][2023/03/08 02:17:25 PM]  - Probabilities (Link: 0.99738, Lost: 0.49369)\n",
      "[INFO][2023/03/08 02:17:25 PM]  - Stats (Active: 141, Lost: 2249, Conflicts resolved: 4)\n",
      "[INFO][2023/03/08 02:17:25 PM] Tracking objects in frames 400 to 499 (of 500)...\n",
      "[INFO][2023/03/08 02:17:26 PM]  - Timing (Bayesian updates: 20.06ms, Linking: 0.69ms)\n",
      "[INFO][2023/03/08 02:17:26 PM]  - Probabilities (Link: 1.00000, Lost: 1.00000)\n",
      "[INFO][2023/03/08 02:17:26 PM] SUCCESS.\n",
      "[INFO][2023/03/08 02:17:26 PM]  - Found 698 tracks in 500 frames (in 0.0s)\n",
      "[INFO][2023/03/08 02:17:26 PM]  - Inserted 0 dummy objects to fill tracking gaps\n",
      "[INFO][2023/03/08 02:17:27 PM] Ending BayesianTracker session\n"
     ]
    }
   ],
   "source": [
    "# initialise a tracker session using a context manager\n",
    "with btrack.BayesianTracker() as tracker:\n",
    "\n",
    "    # configure the tracker using a config file\n",
    "    tracker.configure(cfg)\n",
    "    tracker.max_search_radius = 50\n",
    "\n",
    "    # append the objects to be tracked\n",
    "    tracker.append(objects)\n",
    "\n",
    "    # set the tracking volume\n",
    "    tracker.volume=((0, 1600), (0, 1200))\n",
    "\n",
    "    # track them (in interactive mode)\n",
    "    tracker.track(step_size=100)\n",
    "\n",
    "    # generate hypotheses and run the global optimizer\n",
    "    # tracker.optimize()\n",
    "\n",
    "    # get the tracks in a format for napari visualization\n",
    "    data, properties, graph = tracker.to_napari()\n",
    "    \n",
    "    # store the tracks\n",
    "    tracks = tracker.tracks\n",
    "\n",
    "    # edges = tracker.graph_edges()\n",
    "    # edge_one = [edge for edge in edges if edge.source == 50]\n",
    "    # print([e.to_dict() for e in edge_one])\n",
    "    # print(sum(e.score for e in edge_one))\n",
    "\n",
    "    # store the configuration\n",
    "    cfg = tracker.configuration"
   ]
  },
  {
   "cell_type": "code",
   "execution_count": 9,
   "metadata": {},
   "outputs": [],
   "source": [
    "# viewer = napari.Viewer()\n",
    "# # viewer.add_image(images)\n",
    "# # viewer.add_points(detections.loc[:, [\"t\", \"x\", \"y\"]])\n",
    "# viewer.add_tracks(data, properties=properties, graph=graph)"
   ]
  },
  {
   "cell_type": "code",
   "execution_count": 10,
   "metadata": {},
   "outputs": [
    {
     "name": "stdout",
     "output_type": "stream",
     "text": [
      "698\n",
      "<class 'list'>\n"
     ]
    }
   ],
   "source": [
    "print(len(tracks))\n",
    "print(type(tracks))"
   ]
  },
  {
   "cell_type": "code",
   "execution_count": 11,
   "metadata": {},
   "outputs": [
    {
     "data": {
      "text/html": [
       "<table border=\"1\" class=\"dataframe\">\n",
       "  <thead>\n",
       "    <tr style=\"text-align: right;\">\n",
       "      <th></th>\n",
       "      <th>ID</th>\n",
       "      <th>t</th>\n",
       "      <th>x</th>\n",
       "      <th>y</th>\n",
       "      <th>z</th>\n",
       "      <th>parent</th>\n",
       "      <th>root</th>\n",
       "      <th>state</th>\n",
       "      <th>generation</th>\n",
       "      <th>dummy</th>\n",
       "    </tr>\n",
       "  </thead>\n",
       "  <tbody>\n",
       "    <tr>\n",
       "      <th>0</th>\n",
       "      <td>1</td>\n",
       "      <td>0</td>\n",
       "      <td>517.559509</td>\n",
       "      <td>9.081633</td>\n",
       "      <td>0.0</td>\n",
       "      <td>1</td>\n",
       "      <td>1</td>\n",
       "      <td>0</td>\n",
       "      <td>0</td>\n",
       "      <td>False</td>\n",
       "    </tr>\n",
       "    <tr>\n",
       "      <th>1</th>\n",
       "      <td>1</td>\n",
       "      <td>1</td>\n",
       "      <td>514.647217</td>\n",
       "      <td>5.522222</td>\n",
       "      <td>0.0</td>\n",
       "      <td>1</td>\n",
       "      <td>1</td>\n",
       "      <td>2</td>\n",
       "      <td>0</td>\n",
       "      <td>False</td>\n",
       "    </tr>\n",
       "  </tbody>\n",
       "</table>"
      ],
      "text/plain": [
       "OrderedDict([('ID', 1), ('t', [0, 1]), ('x', [517.5595092773438, 514.647216796875]), ('y', [9.081632614135742, 5.52222204208374]), ('z', [0.0, 0.0]), ('parent', 1), ('root', 1), ('state', [0, 2]), ('generation', 0), ('dummy', [False, False])])"
      ]
     },
     "execution_count": 11,
     "metadata": {},
     "output_type": "execute_result"
    }
   ],
   "source": [
    "tracks[0]"
   ]
  },
  {
   "cell_type": "code",
   "execution_count": 12,
   "metadata": {},
   "outputs": [
    {
     "data": {
      "text/plain": [
       "OrderedDict([('ID', 1),\n",
       "             ('t', [0, 1]),\n",
       "             ('x', [517.5595092773438, 514.647216796875]),\n",
       "             ('y', [9.081632614135742, 5.52222204208374]),\n",
       "             ('z', [0.0, 0.0]),\n",
       "             ('parent', 1),\n",
       "             ('root', 1),\n",
       "             ('state', [0, 2]),\n",
       "             ('generation', 0),\n",
       "             ('dummy', [False, False])])"
      ]
     },
     "execution_count": 12,
     "metadata": {},
     "output_type": "execute_result"
    }
   ],
   "source": [
    "tracks[0].to_dict()"
   ]
  },
  {
   "cell_type": "markdown",
   "metadata": {},
   "source": [
    "# Data massaging"
   ]
  },
  {
   "cell_type": "markdown",
   "metadata": {},
   "source": [
    "We want the following array/list:\n",
    "\n",
    "nodes:\n",
    "| node_id | t | z | x | y | ... |\n",
    "| -------- | - | - | - | - | --- |\n",
    "\n",
    "edges:\n",
    "| edge_id | source | end |\n",
    "| ------- | ------ | --- |\n",
    "\n",
    "tracks:\n",
    "| track_id | node_id start | node_id end | \n",
    "| -------- | ------------- | ----------- | \n",
    "\n",
    "division?"
   ]
  },
  {
   "cell_type": "code",
   "execution_count": 13,
   "metadata": {},
   "outputs": [
    {
     "name": "stdout",
     "output_type": "stream",
     "text": [
      "{'ID': 0, 'x': 517.5595092773438, 'y': 9.081632614135742, 'z': 0.0, 't': 0, 'dummy': False, 'states': 0, 'label': 0}\n"
     ]
    }
   ],
   "source": [
    "import pandas as pd\n",
    "\n",
    "print(objects[0])"
   ]
  },
  {
   "cell_type": "markdown",
   "metadata": {},
   "source": [
    "### nodes"
   ]
  },
  {
   "cell_type": "code",
   "execution_count": 14,
   "metadata": {},
   "outputs": [],
   "source": [
    "nodes = []\n",
    "for o in objects:\n",
    "    node = [\n",
    "        o.ID,\n",
    "        o.t,\n",
    "        o.z,\n",
    "        o.x,\n",
    "        o.y,\n",
    "    ]\n",
    "    nodes.append(node)"
   ]
  },
  {
   "cell_type": "code",
   "execution_count": 15,
   "metadata": {},
   "outputs": [
    {
     "name": "stdout",
     "output_type": "stream",
     "text": [
      "           0    1    2            3            4\n",
      "0          0    0  0.0   517.559509     9.081633\n",
      "1          1    0  0.0   657.603760     4.430189\n",
      "2          2    0  0.0   718.007568     8.603536\n",
      "3          3    0  0.0   688.747314    21.547287\n",
      "4          4    0  0.0   234.807022    34.463657\n",
      "...      ...  ...  ...          ...          ...\n",
      "52576  52576  499  0.0  1150.620850  1172.218384\n",
      "52577  52577  499  0.0  1490.937012  1177.104858\n",
      "52578  52578  499  0.0  1051.531250  1188.209839\n",
      "52579  52579  499  0.0  1002.518372  1189.372925\n",
      "52580  52580  499  0.0  1529.802979  1191.474487\n",
      "\n",
      "[52581 rows x 5 columns]\n"
     ]
    }
   ],
   "source": [
    "nodes_df = pd.DataFrame.from_dict(nodes)\n",
    "print(nodes_df)"
   ]
  },
  {
   "cell_type": "markdown",
   "metadata": {},
   "source": [
    "### edges and tracks"
   ]
  },
  {
   "cell_type": "code",
   "execution_count": 16,
   "metadata": {},
   "outputs": [
    {
     "name": "stdout",
     "output_type": "stream",
     "text": [
      "2\n",
      "514.647216796875\n",
      "[1, 70, 139, 207]\n"
     ]
    },
    {
     "data": {
      "text/html": [
       "<table border=\"1\" class=\"dataframe\">\n",
       "  <thead>\n",
       "    <tr style=\"text-align: right;\">\n",
       "      <th></th>\n",
       "      <th>ID</th>\n",
       "      <th>t</th>\n",
       "      <th>x</th>\n",
       "      <th>y</th>\n",
       "      <th>z</th>\n",
       "      <th>parent</th>\n",
       "      <th>root</th>\n",
       "      <th>state</th>\n",
       "      <th>generation</th>\n",
       "      <th>dummy</th>\n",
       "    </tr>\n",
       "  </thead>\n",
       "  <tbody>\n",
       "    <tr>\n",
       "      <th>0</th>\n",
       "      <td>2</td>\n",
       "      <td>0</td>\n",
       "      <td>657.603760</td>\n",
       "      <td>4.430189</td>\n",
       "      <td>0.0</td>\n",
       "      <td>2</td>\n",
       "      <td>2</td>\n",
       "      <td>2</td>\n",
       "      <td>0</td>\n",
       "      <td>False</td>\n",
       "    </tr>\n",
       "    <tr>\n",
       "      <th>1</th>\n",
       "      <td>2</td>\n",
       "      <td>1</td>\n",
       "      <td>657.799988</td>\n",
       "      <td>4.155102</td>\n",
       "      <td>0.0</td>\n",
       "      <td>2</td>\n",
       "      <td>2</td>\n",
       "      <td>2</td>\n",
       "      <td>0</td>\n",
       "      <td>False</td>\n",
       "    </tr>\n",
       "    <tr>\n",
       "      <th>2</th>\n",
       "      <td>2</td>\n",
       "      <td>2</td>\n",
       "      <td>657.011658</td>\n",
       "      <td>4.298450</td>\n",
       "      <td>0.0</td>\n",
       "      <td>2</td>\n",
       "      <td>2</td>\n",
       "      <td>2</td>\n",
       "      <td>0</td>\n",
       "      <td>False</td>\n",
       "    </tr>\n",
       "    <tr>\n",
       "      <th>3</th>\n",
       "      <td>2</td>\n",
       "      <td>3</td>\n",
       "      <td>656.730286</td>\n",
       "      <td>4.713816</td>\n",
       "      <td>0.0</td>\n",
       "      <td>2</td>\n",
       "      <td>2</td>\n",
       "      <td>2</td>\n",
       "      <td>0</td>\n",
       "      <td>False</td>\n",
       "    </tr>\n",
       "  </tbody>\n",
       "</table>"
      ],
      "text/plain": [
       "OrderedDict([('ID', 2), ('t', [0, 1, 2, 3]), ('x', [657.603759765625, 657.7999877929688, 657.0116577148438, 656.7302856445312]), ('y', [4.430188655853272, 4.155102252960205, 4.298449516296387, 4.713815689086914]), ('z', [0.0, 0.0, 0.0, 0.0]), ('parent', 2), ('root', 2), ('state', [2, 2, 2, 2]), ('generation', 0), ('dummy', [False, False, False, False])])"
      ]
     },
     "execution_count": 16,
     "metadata": {},
     "output_type": "execute_result"
    }
   ],
   "source": [
    "print(len(tracks[0]))\n",
    "print(tracks[0].x[1])\n",
    "print(tracks[1].refs)\n",
    "tracks[1]"
   ]
  },
  {
   "cell_type": "code",
   "execution_count": 17,
   "metadata": {},
   "outputs": [],
   "source": [
    "edges = []\n",
    "tracklets = []\n",
    "\n",
    "edge_id = 0\n",
    "for t in tracks:\n",
    "    # add track\n",
    "    track = [\n",
    "        t.ID,\n",
    "        t.refs[0],\n",
    "        t.refs[-1],\n",
    "    ]\n",
    "    tracklets.append(track)\n",
    "    \n",
    "    # add edges\n",
    "    for i in range(len(t)-1):\n",
    "        edge = [\n",
    "            edge_id,\n",
    "            t.refs[i],\n",
    "            t.refs[i+1],\n",
    "        ]\n",
    "        \n",
    "        edges.append(edge)\n",
    "        edge_id += 1"
   ]
  },
  {
   "cell_type": "code",
   "execution_count": 18,
   "metadata": {},
   "outputs": [
    {
     "name": "stdout",
     "output_type": "stream",
     "text": [
      "           0      1      2\n",
      "0          0      0     69\n",
      "1          1      1     70\n",
      "2          2     70    139\n",
      "3          3    139    207\n",
      "4          4      2     71\n",
      "...      ...    ...    ...\n",
      "51878  51878  52208  52388\n",
      "51879  51879  52388  52570\n",
      "51880  51880  52307  52487\n",
      "51881  51881  52327  52509\n",
      "51882  51882  52329  52511\n",
      "\n",
      "[51883 rows x 3 columns]\n"
     ]
    }
   ],
   "source": [
    "edges_df = pd.DataFrame.from_dict(edges)\n",
    "print(edges_df)"
   ]
  },
  {
   "cell_type": "code",
   "execution_count": 19,
   "metadata": {},
   "outputs": [
    {
     "name": "stdout",
     "output_type": "stream",
     "text": [
      "       0      1      2\n",
      "0      1      0     69\n",
      "1      2      1    207\n",
      "2      3      2    818\n",
      "3      4      3  31492\n",
      "4      5      4   5284\n",
      "..   ...    ...    ...\n",
      "693  694  52307  52487\n",
      "694  695  52327  52509\n",
      "695  696  52329  52511\n",
      "696  697  52399  52399\n",
      "697  698  52493  52493\n",
      "\n",
      "[698 rows x 3 columns]\n"
     ]
    }
   ],
   "source": [
    "tracklets_df = pd.DataFrame.from_dict(tracklets)\n",
    "print(tracklets_df)"
   ]
  },
  {
   "cell_type": "markdown",
   "metadata": {},
   "source": [
    "# Let's try exporting to zarr"
   ]
  },
  {
   "cell_type": "code",
   "execution_count": 20,
   "metadata": {},
   "outputs": [],
   "source": [
    "import numpy as np\n",
    "from pathlib import Path\n",
    "import shutil\n",
    "\n",
    "# verify existence|\n",
    "zarr_file = Path('data/example.n5')\n",
    "if zarr_file.exists():\n",
    "        shutil.rmtree(zarr_file)"
   ]
  },
  {
   "cell_type": "code",
   "execution_count": 21,
   "metadata": {},
   "outputs": [],
   "source": [
    "import zarr\n",
    "store = zarr.N5Store(zarr_file)\n",
    "root = zarr.group(store=store)\n",
    "\n",
    "# nodes\n",
    "nodes_group = root.create_group('nodes')\n",
    "edges_group = root.create_group('edges')\n",
    "tracks_group = root.create_group('tracks')"
   ]
  },
  {
   "cell_type": "code",
   "execution_count": 22,
   "metadata": {},
   "outputs": [],
   "source": [
    "# nodes\n",
    "nid = np.array(nodes_df.loc[:, 0])\n",
    "nt = np.array(nodes_df.loc[:, 1])\n",
    "nz = np.array(nodes_df.loc[:, 2])\n",
    "nx = np.array(nodes_df.loc[:, 3])\n",
    "ny = np.array(nodes_df.loc[:, 4])\n",
    "\n",
    "nid_chunk = nodes_group.array(name='nid', data=nid, dtype='i4')\n",
    "nt_chunk = nodes_group.array(name='t', data=nt, dtype='i4')\n",
    "nz_chunk = nodes_group.array(name='z', data=nz, dtype='f4')\n",
    "nx_chunk = nodes_group.array(name='x', data=nx, dtype='f4')\n",
    "ny_chunk = nodes_group.array(name='y', data=ny, dtype='f4')"
   ]
  },
  {
   "cell_type": "code",
   "execution_count": 23,
   "metadata": {},
   "outputs": [],
   "source": [
    "# edges\n",
    "eid = np.array(edges_df.loc[:, 0])\n",
    "source = np.array(edges_df.loc[:, 1])\n",
    "target = np.array(edges_df.loc[:, 2])\n",
    "\n",
    "eid_chunk = edges_group.array(name='eid', data=eid, dtype='i4')\n",
    "source_chunk = edges_group.array(name='source', data=source, dtype='i4')\n",
    "target_chunk = edges_group.array(name='target', data=target, dtype='i4')"
   ]
  },
  {
   "cell_type": "code",
   "execution_count": 24,
   "metadata": {},
   "outputs": [],
   "source": [
    "# tracklets\n",
    "tid = np.array(tracklets_df.loc[:, 0])\n",
    "begin = np.array(tracklets_df.loc[:, 1])\n",
    "end = np.array(tracklets_df.loc[:, 2])\n",
    "\n",
    "tid_chunk = tracks_group.array(name='tid', data=tid, dtype='i4')\n",
    "begin_chunk = tracks_group.array(name='begin', data=begin, dtype='i4')\n",
    "end_chunk = tracks_group.array(name='end', data=end, dtype='i4')"
   ]
  },
  {
   "cell_type": "code",
   "execution_count": 25,
   "metadata": {},
   "outputs": [
    {
     "name": "stdout",
     "output_type": "stream",
     "text": [
      "/\n",
      " ├── edges\n",
      " │   ├── eid (51883,) int32\n",
      " │   ├── source (51883,) int32\n",
      " │   └── target (51883,) int32\n",
      " ├── nodes\n",
      " │   ├── nid (52581,) int32\n",
      " │   ├── t (52581,) int32\n",
      " │   ├── x (52581,) float32\n",
      " │   ├── y (52581,) float32\n",
      " │   └── z (52581,) float32\n",
      " └── tracks\n",
      "     ├── begin (698,) int32\n",
      "     ├── end (698,) int32\n",
      "     └── tid (698,) int32\n"
     ]
    }
   ],
   "source": [
    "print(root.tree())"
   ]
  },
  {
   "cell_type": "markdown",
   "metadata": {},
   "source": [
    "# Read zarr"
   ]
  },
  {
   "cell_type": "code",
   "execution_count": 26,
   "metadata": {},
   "outputs": [
    {
     "name": "stdout",
     "output_type": "stream",
     "text": [
      "/\n",
      " ├── edges\n",
      " │   ├── eid (51883,) int32\n",
      " │   ├── source (51883,) int32\n",
      " │   └── target (51883,) int32\n",
      " ├── nodes\n",
      " │   ├── nid (52581,) int32\n",
      " │   ├── t (52581,) int32\n",
      " │   ├── x (52581,) float32\n",
      " │   ├── y (52581,) float32\n",
      " │   └── z (52581,) float32\n",
      " └── tracks\n",
      "     ├── begin (698,) int32\n",
      "     ├── end (698,) int32\n",
      "     └── tid (698,) int32\n"
     ]
    }
   ],
   "source": [
    "myzarr = zarr.open(zarr_file)\n",
    "print(myzarr.tree())"
   ]
  },
  {
   "cell_type": "code",
   "execution_count": 27,
   "metadata": {},
   "outputs": [
    {
     "data": {
      "text/html": [
       "<table border=\"1\" class=\"dataframe\">\n",
       "  <thead>\n",
       "    <tr style=\"text-align: right;\">\n",
       "      <th></th>\n",
       "      <th>ID</th>\n",
       "      <th>x</th>\n",
       "      <th>y</th>\n",
       "      <th>z</th>\n",
       "      <th>t</th>\n",
       "      <th>dummy</th>\n",
       "      <th>states</th>\n",
       "      <th>label</th>\n",
       "    </tr>\n",
       "  </thead>\n",
       "  <tbody>\n",
       "    <tr>\n",
       "      <th>0</th>\n",
       "      <td>100</td>\n",
       "      <td>405.485748</td>\n",
       "      <td>664.952942</td>\n",
       "      <td>0.0</td>\n",
       "      <td>1</td>\n",
       "      <td>False</td>\n",
       "      <td>0</td>\n",
       "      <td>0</td>\n",
       "    </tr>\n",
       "  </tbody>\n",
       "</table>"
      ],
      "text/plain": [
       "{'ID': 100, 'x': 405.4857482910156, 'y': 664.9529418945312, 'z': 0.0, 't': 1, 'dummy': False, 'states': 0, 'label': 0}"
      ]
     },
     "execution_count": 27,
     "metadata": {},
     "output_type": "execute_result"
    }
   ],
   "source": [
    "n = 100\n",
    "objects[n]"
   ]
  },
  {
   "cell_type": "code",
   "execution_count": 28,
   "metadata": {},
   "outputs": [
    {
     "name": "stdout",
     "output_type": "stream",
     "text": [
      "Object 10: 100, 1, 405.4857482910156\n"
     ]
    }
   ],
   "source": [
    "obj_id = myzarr['nodes/nid'][n]\n",
    "obj_t = myzarr['nodes/t'][n]\n",
    "obj_x = myzarr['nodes/x'][n]\n",
    "\n",
    "\n",
    "print(f'Object 10: {obj_id}, {obj_t}, {obj_x}')"
   ]
  },
  {
   "cell_type": "code",
   "execution_count": 29,
   "metadata": {},
   "outputs": [
    {
     "name": "stdout",
     "output_type": "stream",
     "text": [
      "[1751, 1822, 1892, 1962, 2035, 2108, 2181, 2253, 2327, 2400, 2473, 2545, 2618, 2691, 2764, 2836, 2908, 2980, 3052, 3124, 3196, 3268, 3340, 3414, 3487, 3560, 3634, 3708, 3780, 3854, 3927, 3999, 4073, 4146, 4219, 4292]\n"
     ]
    },
    {
     "data": {
      "text/html": [
       "<table border=\"1\" class=\"dataframe\">\n",
       "  <thead>\n",
       "    <tr style=\"text-align: right;\">\n",
       "      <th></th>\n",
       "      <th>ID</th>\n",
       "      <th>t</th>\n",
       "      <th>x</th>\n",
       "      <th>y</th>\n",
       "      <th>z</th>\n",
       "      <th>parent</th>\n",
       "      <th>root</th>\n",
       "      <th>state</th>\n",
       "      <th>generation</th>\n",
       "      <th>dummy</th>\n",
       "    </tr>\n",
       "  </thead>\n",
       "  <tbody>\n",
       "    <tr>\n",
       "      <th>0</th>\n",
       "      <td>101</td>\n",
       "      <td>25</td>\n",
       "      <td>1002.694519</td>\n",
       "      <td>889.183289</td>\n",
       "      <td>0.0</td>\n",
       "      <td>101</td>\n",
       "      <td>101</td>\n",
       "      <td>0</td>\n",
       "      <td>0</td>\n",
       "      <td>False</td>\n",
       "    </tr>\n",
       "    <tr>\n",
       "      <th>1</th>\n",
       "      <td>101</td>\n",
       "      <td>26</td>\n",
       "      <td>1004.174683</td>\n",
       "      <td>889.793213</td>\n",
       "      <td>0.0</td>\n",
       "      <td>101</td>\n",
       "      <td>101</td>\n",
       "      <td>0</td>\n",
       "      <td>0</td>\n",
       "      <td>False</td>\n",
       "    </tr>\n",
       "    <tr>\n",
       "      <th>2</th>\n",
       "      <td>101</td>\n",
       "      <td>27</td>\n",
       "      <td>1003.641479</td>\n",
       "      <td>883.739258</td>\n",
       "      <td>0.0</td>\n",
       "      <td>101</td>\n",
       "      <td>101</td>\n",
       "      <td>0</td>\n",
       "      <td>0</td>\n",
       "      <td>False</td>\n",
       "    </tr>\n",
       "    <tr>\n",
       "      <th>3</th>\n",
       "      <td>101</td>\n",
       "      <td>28</td>\n",
       "      <td>1006.424316</td>\n",
       "      <td>873.554565</td>\n",
       "      <td>0.0</td>\n",
       "      <td>101</td>\n",
       "      <td>101</td>\n",
       "      <td>0</td>\n",
       "      <td>0</td>\n",
       "      <td>False</td>\n",
       "    </tr>\n",
       "    <tr>\n",
       "      <th>4</th>\n",
       "      <td>101</td>\n",
       "      <td>29</td>\n",
       "      <td>1005.196472</td>\n",
       "      <td>866.737366</td>\n",
       "      <td>0.0</td>\n",
       "      <td>101</td>\n",
       "      <td>101</td>\n",
       "      <td>0</td>\n",
       "      <td>0</td>\n",
       "      <td>False</td>\n",
       "    </tr>\n",
       "    <tr>\n",
       "      <th>5</th>\n",
       "      <td>101</td>\n",
       "      <td>30</td>\n",
       "      <td>1003.860535</td>\n",
       "      <td>860.402771</td>\n",
       "      <td>0.0</td>\n",
       "      <td>101</td>\n",
       "      <td>101</td>\n",
       "      <td>0</td>\n",
       "      <td>0</td>\n",
       "      <td>False</td>\n",
       "    </tr>\n",
       "    <tr>\n",
       "      <th>6</th>\n",
       "      <td>101</td>\n",
       "      <td>31</td>\n",
       "      <td>1004.886169</td>\n",
       "      <td>853.296021</td>\n",
       "      <td>0.0</td>\n",
       "      <td>101</td>\n",
       "      <td>101</td>\n",
       "      <td>0</td>\n",
       "      <td>0</td>\n",
       "      <td>False</td>\n",
       "    </tr>\n",
       "    <tr>\n",
       "      <th>7</th>\n",
       "      <td>101</td>\n",
       "      <td>32</td>\n",
       "      <td>1003.967651</td>\n",
       "      <td>851.726257</td>\n",
       "      <td>0.0</td>\n",
       "      <td>101</td>\n",
       "      <td>101</td>\n",
       "      <td>0</td>\n",
       "      <td>0</td>\n",
       "      <td>False</td>\n",
       "    </tr>\n",
       "    <tr>\n",
       "      <th>8</th>\n",
       "      <td>101</td>\n",
       "      <td>33</td>\n",
       "      <td>1003.536865</td>\n",
       "      <td>846.135071</td>\n",
       "      <td>0.0</td>\n",
       "      <td>101</td>\n",
       "      <td>101</td>\n",
       "      <td>0</td>\n",
       "      <td>0</td>\n",
       "      <td>False</td>\n",
       "    </tr>\n",
       "    <tr>\n",
       "      <th>9</th>\n",
       "      <td>101</td>\n",
       "      <td>34</td>\n",
       "      <td>1004.329041</td>\n",
       "      <td>843.351501</td>\n",
       "      <td>0.0</td>\n",
       "      <td>101</td>\n",
       "      <td>101</td>\n",
       "      <td>0</td>\n",
       "      <td>0</td>\n",
       "      <td>False</td>\n",
       "    </tr>\n",
       "    <tr>\n",
       "      <th>10</th>\n",
       "      <td>101</td>\n",
       "      <td>35</td>\n",
       "      <td>1004.422913</td>\n",
       "      <td>839.917358</td>\n",
       "      <td>0.0</td>\n",
       "      <td>101</td>\n",
       "      <td>101</td>\n",
       "      <td>0</td>\n",
       "      <td>0</td>\n",
       "      <td>False</td>\n",
       "    </tr>\n",
       "    <tr>\n",
       "      <th>11</th>\n",
       "      <td>101</td>\n",
       "      <td>36</td>\n",
       "      <td>1007.129883</td>\n",
       "      <td>838.590759</td>\n",
       "      <td>0.0</td>\n",
       "      <td>101</td>\n",
       "      <td>101</td>\n",
       "      <td>0</td>\n",
       "      <td>0</td>\n",
       "      <td>False</td>\n",
       "    </tr>\n",
       "    <tr>\n",
       "      <th>12</th>\n",
       "      <td>101</td>\n",
       "      <td>37</td>\n",
       "      <td>1008.791443</td>\n",
       "      <td>835.986328</td>\n",
       "      <td>0.0</td>\n",
       "      <td>101</td>\n",
       "      <td>101</td>\n",
       "      <td>0</td>\n",
       "      <td>0</td>\n",
       "      <td>False</td>\n",
       "    </tr>\n",
       "    <tr>\n",
       "      <th>13</th>\n",
       "      <td>101</td>\n",
       "      <td>38</td>\n",
       "      <td>1008.481689</td>\n",
       "      <td>835.672180</td>\n",
       "      <td>0.0</td>\n",
       "      <td>101</td>\n",
       "      <td>101</td>\n",
       "      <td>0</td>\n",
       "      <td>0</td>\n",
       "      <td>False</td>\n",
       "    </tr>\n",
       "    <tr>\n",
       "      <th>14</th>\n",
       "      <td>101</td>\n",
       "      <td>39</td>\n",
       "      <td>1009.074463</td>\n",
       "      <td>833.656494</td>\n",
       "      <td>0.0</td>\n",
       "      <td>101</td>\n",
       "      <td>101</td>\n",
       "      <td>0</td>\n",
       "      <td>0</td>\n",
       "      <td>False</td>\n",
       "    </tr>\n",
       "    <tr>\n",
       "      <th>15</th>\n",
       "      <td>101</td>\n",
       "      <td>40</td>\n",
       "      <td>1012.265808</td>\n",
       "      <td>830.702576</td>\n",
       "      <td>0.0</td>\n",
       "      <td>101</td>\n",
       "      <td>101</td>\n",
       "      <td>0</td>\n",
       "      <td>0</td>\n",
       "      <td>False</td>\n",
       "    </tr>\n",
       "    <tr>\n",
       "      <th>16</th>\n",
       "      <td>101</td>\n",
       "      <td>41</td>\n",
       "      <td>1014.602356</td>\n",
       "      <td>829.451355</td>\n",
       "      <td>0.0</td>\n",
       "      <td>101</td>\n",
       "      <td>101</td>\n",
       "      <td>0</td>\n",
       "      <td>0</td>\n",
       "      <td>False</td>\n",
       "    </tr>\n",
       "    <tr>\n",
       "      <th>17</th>\n",
       "      <td>101</td>\n",
       "      <td>42</td>\n",
       "      <td>1018.777771</td>\n",
       "      <td>829.434692</td>\n",
       "      <td>0.0</td>\n",
       "      <td>101</td>\n",
       "      <td>101</td>\n",
       "      <td>0</td>\n",
       "      <td>0</td>\n",
       "      <td>False</td>\n",
       "    </tr>\n",
       "    <tr>\n",
       "      <th>18</th>\n",
       "      <td>101</td>\n",
       "      <td>43</td>\n",
       "      <td>1022.520203</td>\n",
       "      <td>830.676331</td>\n",
       "      <td>0.0</td>\n",
       "      <td>101</td>\n",
       "      <td>101</td>\n",
       "      <td>0</td>\n",
       "      <td>0</td>\n",
       "      <td>False</td>\n",
       "    </tr>\n",
       "    <tr>\n",
       "      <th>19</th>\n",
       "      <td>101</td>\n",
       "      <td>44</td>\n",
       "      <td>1023.848633</td>\n",
       "      <td>831.337158</td>\n",
       "      <td>0.0</td>\n",
       "      <td>101</td>\n",
       "      <td>101</td>\n",
       "      <td>0</td>\n",
       "      <td>0</td>\n",
       "      <td>False</td>\n",
       "    </tr>\n",
       "    <tr>\n",
       "      <th>20</th>\n",
       "      <td>101</td>\n",
       "      <td>45</td>\n",
       "      <td>1023.853333</td>\n",
       "      <td>829.731140</td>\n",
       "      <td>0.0</td>\n",
       "      <td>101</td>\n",
       "      <td>101</td>\n",
       "      <td>0</td>\n",
       "      <td>0</td>\n",
       "      <td>False</td>\n",
       "    </tr>\n",
       "    <tr>\n",
       "      <th>21</th>\n",
       "      <td>101</td>\n",
       "      <td>46</td>\n",
       "      <td>1026.695312</td>\n",
       "      <td>831.863281</td>\n",
       "      <td>0.0</td>\n",
       "      <td>101</td>\n",
       "      <td>101</td>\n",
       "      <td>0</td>\n",
       "      <td>0</td>\n",
       "      <td>False</td>\n",
       "    </tr>\n",
       "    <tr>\n",
       "      <th>22</th>\n",
       "      <td>101</td>\n",
       "      <td>47</td>\n",
       "      <td>1031.905273</td>\n",
       "      <td>832.867859</td>\n",
       "      <td>0.0</td>\n",
       "      <td>101</td>\n",
       "      <td>101</td>\n",
       "      <td>0</td>\n",
       "      <td>0</td>\n",
       "      <td>False</td>\n",
       "    </tr>\n",
       "    <tr>\n",
       "      <th>23</th>\n",
       "      <td>101</td>\n",
       "      <td>48</td>\n",
       "      <td>1031.858521</td>\n",
       "      <td>830.870361</td>\n",
       "      <td>0.0</td>\n",
       "      <td>101</td>\n",
       "      <td>101</td>\n",
       "      <td>0</td>\n",
       "      <td>0</td>\n",
       "      <td>False</td>\n",
       "    </tr>\n",
       "    <tr>\n",
       "      <th>24</th>\n",
       "      <td>101</td>\n",
       "      <td>49</td>\n",
       "      <td>1033.028931</td>\n",
       "      <td>829.721497</td>\n",
       "      <td>0.0</td>\n",
       "      <td>101</td>\n",
       "      <td>101</td>\n",
       "      <td>0</td>\n",
       "      <td>0</td>\n",
       "      <td>False</td>\n",
       "    </tr>\n",
       "    <tr>\n",
       "      <th>25</th>\n",
       "      <td>101</td>\n",
       "      <td>50</td>\n",
       "      <td>1031.062256</td>\n",
       "      <td>829.260681</td>\n",
       "      <td>0.0</td>\n",
       "      <td>101</td>\n",
       "      <td>101</td>\n",
       "      <td>0</td>\n",
       "      <td>0</td>\n",
       "      <td>False</td>\n",
       "    </tr>\n",
       "    <tr>\n",
       "      <th>26</th>\n",
       "      <td>101</td>\n",
       "      <td>51</td>\n",
       "      <td>1031.051636</td>\n",
       "      <td>826.077393</td>\n",
       "      <td>0.0</td>\n",
       "      <td>101</td>\n",
       "      <td>101</td>\n",
       "      <td>0</td>\n",
       "      <td>0</td>\n",
       "      <td>False</td>\n",
       "    </tr>\n",
       "    <tr>\n",
       "      <th>27</th>\n",
       "      <td>101</td>\n",
       "      <td>52</td>\n",
       "      <td>1030.614746</td>\n",
       "      <td>824.731934</td>\n",
       "      <td>0.0</td>\n",
       "      <td>101</td>\n",
       "      <td>101</td>\n",
       "      <td>0</td>\n",
       "      <td>0</td>\n",
       "      <td>False</td>\n",
       "    </tr>\n",
       "    <tr>\n",
       "      <th>28</th>\n",
       "      <td>101</td>\n",
       "      <td>53</td>\n",
       "      <td>1025.818237</td>\n",
       "      <td>821.606628</td>\n",
       "      <td>0.0</td>\n",
       "      <td>101</td>\n",
       "      <td>101</td>\n",
       "      <td>0</td>\n",
       "      <td>0</td>\n",
       "      <td>False</td>\n",
       "    </tr>\n",
       "    <tr>\n",
       "      <th>29</th>\n",
       "      <td>101</td>\n",
       "      <td>54</td>\n",
       "      <td>1019.951965</td>\n",
       "      <td>818.154785</td>\n",
       "      <td>0.0</td>\n",
       "      <td>101</td>\n",
       "      <td>101</td>\n",
       "      <td>0</td>\n",
       "      <td>0</td>\n",
       "      <td>False</td>\n",
       "    </tr>\n",
       "    <tr>\n",
       "      <th>30</th>\n",
       "      <td>101</td>\n",
       "      <td>55</td>\n",
       "      <td>1013.507019</td>\n",
       "      <td>813.485962</td>\n",
       "      <td>0.0</td>\n",
       "      <td>101</td>\n",
       "      <td>101</td>\n",
       "      <td>0</td>\n",
       "      <td>0</td>\n",
       "      <td>False</td>\n",
       "    </tr>\n",
       "    <tr>\n",
       "      <th>31</th>\n",
       "      <td>101</td>\n",
       "      <td>56</td>\n",
       "      <td>1004.346497</td>\n",
       "      <td>808.594238</td>\n",
       "      <td>0.0</td>\n",
       "      <td>101</td>\n",
       "      <td>101</td>\n",
       "      <td>0</td>\n",
       "      <td>0</td>\n",
       "      <td>False</td>\n",
       "    </tr>\n",
       "    <tr>\n",
       "      <th>32</th>\n",
       "      <td>101</td>\n",
       "      <td>57</td>\n",
       "      <td>999.029114</td>\n",
       "      <td>806.491821</td>\n",
       "      <td>0.0</td>\n",
       "      <td>101</td>\n",
       "      <td>101</td>\n",
       "      <td>0</td>\n",
       "      <td>0</td>\n",
       "      <td>False</td>\n",
       "    </tr>\n",
       "    <tr>\n",
       "      <th>33</th>\n",
       "      <td>101</td>\n",
       "      <td>58</td>\n",
       "      <td>1004.595642</td>\n",
       "      <td>804.166138</td>\n",
       "      <td>0.0</td>\n",
       "      <td>101</td>\n",
       "      <td>101</td>\n",
       "      <td>0</td>\n",
       "      <td>0</td>\n",
       "      <td>False</td>\n",
       "    </tr>\n",
       "    <tr>\n",
       "      <th>34</th>\n",
       "      <td>101</td>\n",
       "      <td>59</td>\n",
       "      <td>997.144897</td>\n",
       "      <td>799.570862</td>\n",
       "      <td>0.0</td>\n",
       "      <td>101</td>\n",
       "      <td>101</td>\n",
       "      <td>0</td>\n",
       "      <td>0</td>\n",
       "      <td>False</td>\n",
       "    </tr>\n",
       "    <tr>\n",
       "      <th>35</th>\n",
       "      <td>101</td>\n",
       "      <td>60</td>\n",
       "      <td>996.591309</td>\n",
       "      <td>797.907471</td>\n",
       "      <td>0.0</td>\n",
       "      <td>101</td>\n",
       "      <td>101</td>\n",
       "      <td>0</td>\n",
       "      <td>0</td>\n",
       "      <td>False</td>\n",
       "    </tr>\n",
       "  </tbody>\n",
       "</table>"
      ],
      "text/plain": [
       "OrderedDict([('ID', 101), ('t', [25, 26, 27, 28, 29, 30, 31, 32, 33, 34, 35, 36, 37, 38, 39, 40, 41, 42, 43, 44, 45, 46, 47, 48, 49, 50, 51, 52, 53, 54, 55, 56, 57, 58, 59, 60]), ('x', [1002.6945190429688, 1004.1746826171876, 1003.6414794921876, 1006.42431640625, 1005.1964721679688, 1003.8605346679688, 1004.8861694335938, 1003.9676513671876, 1003.536865234375, 1004.3290405273438, 1004.4229125976562, 1007.1298828125, 1008.7914428710938, 1008.481689453125, 1009.074462890625, 1012.2658081054688, 1014.6023559570312, 1018.7777709960938, 1022.5202026367188, 1023.8486328125, 1023.8533325195312, 1026.6953125, 1031.9052734375, 1031.8585205078125, 1033.0289306640625, 1031.062255859375, 1031.0516357421875, 1030.61474609375, 1025.8182373046875, 1019.9519653320312, 1013.5070190429688, 1004.3464965820312, 999.0291137695312, 1004.5956420898438, 997.1448974609376, 996.59130859375]), ('y', [889.1832885742188, 889.793212890625, 883.7392578125, 873.5545654296875, 866.7373657226562, 860.4027709960938, 853.2960205078125, 851.7262573242188, 846.1350708007812, 843.3515014648438, 839.9173583984375, 838.5907592773438, 835.986328125, 835.6721801757812, 833.656494140625, 830.7025756835938, 829.4513549804688, 829.4346923828125, 830.6763305664062, 831.337158203125, 829.7311401367188, 831.86328125, 832.8678588867188, 830.870361328125, 829.7214965820312, 829.2606811523438, 826.077392578125, 824.73193359375, 821.6066284179688, 818.15478515625, 813.4859619140625, 808.59423828125, 806.4918212890625, 804.1661376953125, 799.5708618164062, 797.907470703125]), ('z', [0.0, 0.0, 0.0, 0.0, 0.0, 0.0, 0.0, 0.0, 0.0, 0.0, 0.0, 0.0, 0.0, 0.0, 0.0, 0.0, 0.0, 0.0, 0.0, 0.0, 0.0, 0.0, 0.0, 0.0, 0.0, 0.0, 0.0, 0.0, 0.0, 0.0, 0.0, 0.0, 0.0, 0.0, 0.0, 0.0]), ('parent', 101), ('root', 101), ('state', [0, 0, 0, 0, 0, 0, 0, 0, 0, 0, 0, 0, 0, 0, 0, 0, 0, 0, 0, 0, 0, 0, 0, 0, 0, 0, 0, 0, 0, 0, 0, 0, 0, 0, 0, 0]), ('generation', 0), ('dummy', [False, False, False, False, False, False, False, False, False, False, False, False, False, False, False, False, False, False, False, False, False, False, False, False, False, False, False, False, False, False, False, False, False, False, False, False])])"
      ]
     },
     "execution_count": 29,
     "metadata": {},
     "output_type": "execute_result"
    }
   ],
   "source": [
    "print(tracks[n].refs)\n",
    "tracks[n]"
   ]
  },
  {
   "cell_type": "code",
   "execution_count": 30,
   "metadata": {},
   "outputs": [
    {
     "name": "stdout",
     "output_type": "stream",
     "text": [
      "Object 10: 101, 1751, 4292\n"
     ]
    }
   ],
   "source": [
    "tracks_id = myzarr['tracks/tid'][n]\n",
    "tracks_begin = myzarr['tracks/begin'][n]\n",
    "tracks_end = myzarr['tracks/end'][n]\n",
    "\n",
    "\n",
    "print(f'Object 10: {tracks_id}, {tracks_begin}, {tracks_end}')"
   ]
  }
 ],
 "metadata": {
  "kernelspec": {
   "display_name": "Python 3 (ipykernel)",
   "language": "python",
   "name": "python3"
  },
  "language_info": {
   "codemirror_mode": {
    "name": "ipython",
    "version": 3
   },
   "file_extension": ".py",
   "mimetype": "text/x-python",
   "name": "python",
   "nbconvert_exporter": "python",
   "pygments_lexer": "ipython3",
   "version": "3.8.16"
  },
  "vscode": {
   "interpreter": {
    "hash": "4837db0ae102e7e97a192b176e43e68e2af55ac0fc2fba8f0d17ca28b0f9b18e"
   }
  }
 },
 "nbformat": 4,
 "nbformat_minor": 2
}
